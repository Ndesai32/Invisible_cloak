{
 "cells": [
  {
   "cell_type": "code",
   "execution_count": 34,
   "metadata": {},
   "outputs": [],
   "source": [
    "import cv2\n",
    "import numpy as np\n",
    "import time"
   ]
  },
  {
   "cell_type": "code",
   "execution_count": 38,
   "metadata": {},
   "outputs": [],
   "source": [
    "vc = cv2.VideoCapture(0)\n",
    "time.sleep(2)\n",
    "background=0\n",
    "\n",
    "for i in range(30):\n",
    "    ret,background = vc.read()\n",
    "    \n",
    "while(vc.isOpened()):\n",
    "    ret, img = vc.read()\n",
    "    \n",
    "    if not ret:\n",
    "        break\n",
    "        \n",
    "    hsv = cv2.cvtColor(img, cv2.COLOR_BGR2HSV)\n",
    "    \n",
    "    lower_red = np.array([0,60,70])\n",
    "    upper_red = np.array([144,238,144])\n",
    "    mask_1 = cv2.inRange(hsv,lower_red,upper_red)    # seperating the cloak part\n",
    "    \n",
    "    lower_red = np.array([50,60,70])\n",
    "    upper_red = np.array([144,238,144])\n",
    "    mask_2 = cv2.inRange(hsv,lower_red,upper_red)\n",
    "    \n",
    "    mask = mask_1 + mask_2\n",
    "    \n",
    "    mask_1 = cv2.morphologyEx(mask_1,cv2.MORPH_OPEN,np.ones((3,3),np.uint8),iterations=2) # Noise Removal\n",
    "    mask_1 = cv2.morphologyEx(mask_1,cv2.MORPH_DILATE,np.ones((3,3),np.uint8),iterations=1)\n",
    "    \n",
    "    mask_2 = cv2.bitwise_not(mask_1)      # Except the cloak\n",
    "    \n",
    "    \n",
    "    res_1 = cv2.bitwise_and(background,background,mask = mask_1)\n",
    "    res_2 = cv2.bitwise_and(img,img,mask = mask_2)\n",
    "    output = cv2.addWeighted(res_1,1,res_2,1,0)\n",
    "    \n",
    "    cv2.imshow('Nikhil',output)\n",
    "    \n",
    "    k = cv2.waitKey(10)\n",
    "    if k == 27:\n",
    "        break\n",
    "        \n",
    "vc.release()\n",
    "cv2.destroyAllWindows()     "
   ]
  },
  {
   "cell_type": "code",
   "execution_count": null,
   "metadata": {},
   "outputs": [],
   "source": []
  }
 ],
 "metadata": {
  "kernelspec": {
   "display_name": "Python 3",
   "language": "python",
   "name": "python3"
  },
  "language_info": {
   "codemirror_mode": {
    "name": "ipython",
    "version": 3
   },
   "file_extension": ".py",
   "mimetype": "text/x-python",
   "name": "python",
   "nbconvert_exporter": "python",
   "pygments_lexer": "ipython3",
   "version": "3.7.6"
  }
 },
 "nbformat": 4,
 "nbformat_minor": 4
}
